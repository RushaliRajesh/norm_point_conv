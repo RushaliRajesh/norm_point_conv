{
 "cells": [
  {
   "cell_type": "code",
   "execution_count": 3,
   "metadata": {},
   "outputs": [],
   "source": [
    "import numpy as np\n",
    "import torch\n",
    "import torch.nn as nn\n"
   ]
  },
  {
   "cell_type": "code",
   "execution_count": 49,
   "metadata": {},
   "outputs": [
    {
     "name": "stdout",
     "output_type": "stream",
     "text": [
      "torch.Size([3, 50, 25, 6])\n"
     ]
    }
   ],
   "source": [
    "\n",
    "xyz = torch.rand(3,100,3)\n",
    "features = torch.rand(3,100,6)\n",
    "npoint=50\n",
    "nsample = 25\n",
    "mlp = [32,32,64]\n",
    "new_xyz = torch.rand(3,npoint,3)\n",
    "grouped_xyz = torch.rand(3,npoint,nsample,3)\n",
    "grouped_features = torch.rand(3,npoint,nsample,6)\n",
    "print(grouped_features.shape)\n",
    "density_scale = torch.rand(3,npoint, nsample,1)\n"
   ]
  },
  {
   "cell_type": "code",
   "execution_count": 50,
   "metadata": {},
   "outputs": [
    {
     "name": "stdout",
     "output_type": "stream",
     "text": [
      "torch.Size([3, 6, 25, 50])\n",
      "0\n",
      "1\n",
      "torch.Size([3, 50, 25, 32])\n"
     ]
    }
   ],
   "source": [
    "grouped_features2 = grouped_features.permute(0,3,2,1)\n",
    "print(grouped_features2.shape)\n",
    "for ind,i in enumerate(mlp):\n",
    "    if ind != len(mlp)-1:\n",
    "        print(ind)\n",
    "        grouped_features2 = nn.Conv2d(grouped_features2.shape[1], i, 1, padding='valid')(grouped_features2)\n",
    "        grouped_features2 = nn.BatchNorm2d(i)(grouped_features2)\n",
    "        grouped_features2 = nn.ReLU()(grouped_features2)\n",
    "\n",
    "    # print(grouped_features2.shape)\n",
    "grouped_features2 = grouped_features2.permute(0,3,2,1)\n",
    "print(grouped_features2.shape)"
   ]
  },
  {
   "cell_type": "code",
   "execution_count": 51,
   "metadata": {},
   "outputs": [
    {
     "name": "stdout",
     "output_type": "stream",
     "text": [
      "torch.Size([3, 50, 25, 3])\n",
      "torch.Size([3, 50, 25, 32])\n"
     ]
    }
   ],
   "source": [
    "print(grouped_xyz.shape)\n",
    "grouped_xyz1 = grouped_xyz.permute(0,3,2,1)\n",
    "for i in [32]:\n",
    "    weights = nn.Conv2d(grouped_xyz1.shape[1], i, 1, padding='valid')(grouped_xyz1)\n",
    "    weights = nn.BatchNorm2d(i)(weights)\n",
    "    weights = nn.ReLU()(weights)\n",
    "weights = weights.permute(0,3,2,1)\n",
    "print(weights.shape)"
   ]
  },
  {
   "cell_type": "code",
   "execution_count": 52,
   "metadata": {},
   "outputs": [
    {
     "name": "stdout",
     "output_type": "stream",
     "text": [
      "torch.Size([3, 50, 25, 1])\n",
      "torch.Size([3, 1, 25, 50])\n",
      "torch.Size([3, 16, 25, 50])\n",
      "torch.Size([3, 1, 25, 50])\n",
      "torch.Size([3, 50, 25, 1])\n"
     ]
    }
   ],
   "source": [
    "density_scale = torch.rand(3,npoint, nsample,1)\n",
    "print(density_scale.shape)\n",
    "density_scale = density_scale.permute(0,3,2,1)\n",
    "print(density_scale.shape)\n",
    "for i in [16,1]:\n",
    "    x= nn.Conv2d(density_scale.shape[1], i, 1, padding='valid')(density_scale)\n",
    "    x = nn.BatchNorm2d(i)(x)\n",
    "    x = nn.ReLU()(x)\n",
    "    print(x.shape)\n",
    "density_scale = x\n",
    "density_scale = density_scale.permute(0,3,2,1)\n",
    "print(density_scale.shape)"
   ]
  },
  {
   "cell_type": "code",
   "execution_count": 53,
   "metadata": {},
   "outputs": [
    {
     "name": "stdout",
     "output_type": "stream",
     "text": [
      "torch.Size([3, 50, 25, 32])\n"
     ]
    }
   ],
   "source": [
    "new_points = grouped_features2*density_scale\n",
    "print(new_points.shape)"
   ]
  },
  {
   "cell_type": "code",
   "execution_count": 54,
   "metadata": {},
   "outputs": [
    {
     "data": {
      "text/plain": [
       "torch.Size([3, 50, 32, 32])"
      ]
     },
     "execution_count": 54,
     "metadata": {},
     "output_type": "execute_result"
    }
   ],
   "source": [
    "new_points = torch.matmul(new_points.permute(0,1,3,2), weights)\n",
    "new_points.shape"
   ]
  },
  {
   "cell_type": "code",
   "execution_count": 55,
   "metadata": {},
   "outputs": [
    {
     "data": {
      "text/plain": [
       "torch.Size([3, 50, 32, 32])"
      ]
     },
     "execution_count": 55,
     "metadata": {},
     "output_type": "execute_result"
    }
   ],
   "source": [
    "new_points.shape"
   ]
  },
  {
   "cell_type": "code",
   "execution_count": 56,
   "metadata": {},
   "outputs": [
    {
     "name": "stdout",
     "output_type": "stream",
     "text": [
      "torch.Size([3, 50, 32, 32])\n"
     ]
    }
   ],
   "source": [
    "new_points2 = new_points.permute(0,1,3,2)\n",
    "print(new_points2.shape)"
   ]
  },
  {
   "cell_type": "code",
   "execution_count": 58,
   "metadata": {},
   "outputs": [
    {
     "name": "stdout",
     "output_type": "stream",
     "text": [
      "torch.Size([3, 32, 32, 50])\n",
      "torch.Size([3, 64, 1, 50])\n"
     ]
    }
   ],
   "source": [
    "new_points2 = new_points.permute(0,3,2,1)\n",
    "print(new_points2.shape)\n",
    "new_points2 = nn.Conv2d(new_points2.shape[1], mlp[-1], (new_points2.shape[2],1), padding='valid')(new_points2)\n",
    "print(new_points2.shape)\n",
    "# new_points = new_points.permute(0,1,3,2)\n",
    "# new_points = new_points.squeeze(2)"
   ]
  },
  {
   "cell_type": "code",
   "execution_count": 59,
   "metadata": {},
   "outputs": [
    {
     "name": "stdout",
     "output_type": "stream",
     "text": [
      "torch.Size([3, 50, 1, 64])\n",
      "torch.Size([3, 50, 64])\n"
     ]
    }
   ],
   "source": [
    "new_points2 = new_points2.permute(0,3,2,1)\n",
    "print(new_points2.shape)\n",
    "new_points2 = new_points2.squeeze(2)\n",
    "print(new_points2.shape)\n"
   ]
  },
  {
   "cell_type": "code",
   "execution_count": null,
   "metadata": {},
   "outputs": [],
   "source": []
  }
 ],
 "metadata": {
  "kernelspec": {
   "display_name": "pytorch3d",
   "language": "python",
   "name": "python3"
  },
  "language_info": {
   "codemirror_mode": {
    "name": "ipython",
    "version": 3
   },
   "file_extension": ".py",
   "mimetype": "text/x-python",
   "name": "python",
   "nbconvert_exporter": "python",
   "pygments_lexer": "ipython3",
   "version": "3.9.18"
  }
 },
 "nbformat": 4,
 "nbformat_minor": 2
}
